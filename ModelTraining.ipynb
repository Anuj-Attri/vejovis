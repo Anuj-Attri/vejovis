{
 "cells": [
  {
   "cell_type": "markdown",
   "id": "db0e230a",
   "metadata": {},
   "source": [
    "# Blood Pressure Estimation Using Machine Learning\n",
    "Now that we have extracted the features from the signal, we apply machine learning to the data to obtain predicted Blood Pressure.\n"
   ]
  },
  {
   "cell_type": "code",
   "execution_count": 25,
   "id": "e1c439d5",
   "metadata": {},
   "outputs": [],
   "source": [
    "import pandas as pd\n",
    "import numpy as np\n",
    "import sklearn\n",
    "import matplotlib.pyplot as plt\n",
    "import os"
   ]
  },
  {
   "cell_type": "markdown",
   "id": "e279c162",
   "metadata": {},
   "source": [
    "## Reading the Extracted Data\n",
    "\n",
    "`PPG-BP dataset.xlsx` consists of the patient data.\n",
    "`features.csv` consists of the extracted PPG signal features."
   ]
  },
  {
   "cell_type": "code",
   "execution_count": 2,
   "id": "c2607182",
   "metadata": {},
   "outputs": [],
   "source": [
    "data1 = pd.read_excel(\"PPG-BP dataset.xlsx\")\n",
    "data2 = pd.read_csv(\"features.csv\").drop(labels=[\"Unnamed: 0\"], axis=1)"
   ]
  },
  {
   "cell_type": "code",
   "execution_count": 3,
   "id": "64a7ff1f",
   "metadata": {},
   "outputs": [
    {
     "data": {
      "text/html": [
       "<div>\n",
       "<style scoped>\n",
       "    .dataframe tbody tr th:only-of-type {\n",
       "        vertical-align: middle;\n",
       "    }\n",
       "\n",
       "    .dataframe tbody tr th {\n",
       "        vertical-align: top;\n",
       "    }\n",
       "\n",
       "    .dataframe thead th {\n",
       "        text-align: right;\n",
       "    }\n",
       "</style>\n",
       "<table border=\"1\" class=\"dataframe\">\n",
       "  <thead>\n",
       "    <tr style=\"text-align: right;\">\n",
       "      <th></th>\n",
       "      <th>A0_2</th>\n",
       "      <th>A2_5</th>\n",
       "      <th>Ratio_A</th>\n",
       "      <th>fmax</th>\n",
       "      <th>mag_fmax</th>\n",
       "      <th>mean</th>\n",
       "      <th>median</th>\n",
       "      <th>st_dev</th>\n",
       "      <th>perc_25</th>\n",
       "      <th>perc_50</th>\n",
       "      <th>...</th>\n",
       "      <th>DyValleyTime</th>\n",
       "      <th>DDyValleyTime</th>\n",
       "      <th>b1_a1</th>\n",
       "      <th>b2_a2</th>\n",
       "      <th>ta1_tpp</th>\n",
       "      <th>ta2_tpp</th>\n",
       "      <th>tb1_tpp</th>\n",
       "      <th>tb2_tpp</th>\n",
       "      <th>ta12_tpp</th>\n",
       "      <th>tb12_tpp</th>\n",
       "    </tr>\n",
       "  </thead>\n",
       "  <tbody>\n",
       "    <tr>\n",
       "      <th>0</th>\n",
       "      <td>0.138671</td>\n",
       "      <td>0.074447</td>\n",
       "      <td>1.862697</td>\n",
       "      <td>1.428571</td>\n",
       "      <td>0.112305</td>\n",
       "      <td>0.308536</td>\n",
       "      <td>0.249553</td>\n",
       "      <td>0.262066</td>\n",
       "      <td>0.103032</td>\n",
       "      <td>0.249553</td>\n",
       "      <td>...</td>\n",
       "      <td>-0.694331</td>\n",
       "      <td>-0.595283</td>\n",
       "      <td>-1.061773</td>\n",
       "      <td>-2.237499</td>\n",
       "      <td>-0.458834</td>\n",
       "      <td>-1.753006</td>\n",
       "      <td>-0.641998</td>\n",
       "      <td>-0.550416</td>\n",
       "      <td>1.294172</td>\n",
       "      <td>-0.091582</td>\n",
       "    </tr>\n",
       "    <tr>\n",
       "      <th>1</th>\n",
       "      <td>0.144504</td>\n",
       "      <td>0.089532</td>\n",
       "      <td>1.613985</td>\n",
       "      <td>0.952381</td>\n",
       "      <td>0.138408</td>\n",
       "      <td>0.366501</td>\n",
       "      <td>0.280489</td>\n",
       "      <td>0.303549</td>\n",
       "      <td>0.102355</td>\n",
       "      <td>0.280489</td>\n",
       "      <td>...</td>\n",
       "      <td>-1.382658</td>\n",
       "      <td>-0.999476</td>\n",
       "      <td>-0.291317</td>\n",
       "      <td>-1.446561</td>\n",
       "      <td>-0.897358</td>\n",
       "      <td>-1.786585</td>\n",
       "      <td>-1.404472</td>\n",
       "      <td>-1.015244</td>\n",
       "      <td>0.889228</td>\n",
       "      <td>-0.389228</td>\n",
       "    </tr>\n",
       "    <tr>\n",
       "      <th>2</th>\n",
       "      <td>0.156517</td>\n",
       "      <td>0.071385</td>\n",
       "      <td>2.192568</td>\n",
       "      <td>0.952381</td>\n",
       "      <td>0.154516</td>\n",
       "      <td>0.280349</td>\n",
       "      <td>0.187138</td>\n",
       "      <td>0.297964</td>\n",
       "      <td>0.042245</td>\n",
       "      <td>0.187138</td>\n",
       "      <td>...</td>\n",
       "      <td>-0.775369</td>\n",
       "      <td>-0.666317</td>\n",
       "      <td>-0.814766</td>\n",
       "      <td>-1.820737</td>\n",
       "      <td>-0.638857</td>\n",
       "      <td>-1.530286</td>\n",
       "      <td>-0.885714</td>\n",
       "      <td>-0.761143</td>\n",
       "      <td>0.891429</td>\n",
       "      <td>-0.124571</td>\n",
       "    </tr>\n",
       "    <tr>\n",
       "      <th>3</th>\n",
       "      <td>0.155914</td>\n",
       "      <td>0.069459</td>\n",
       "      <td>2.244676</td>\n",
       "      <td>0.952381</td>\n",
       "      <td>0.133627</td>\n",
       "      <td>0.301067</td>\n",
       "      <td>0.231981</td>\n",
       "      <td>0.286554</td>\n",
       "      <td>0.059443</td>\n",
       "      <td>0.231981</td>\n",
       "      <td>...</td>\n",
       "      <td>-0.870414</td>\n",
       "      <td>-0.755360</td>\n",
       "      <td>-0.823501</td>\n",
       "      <td>-1.884623</td>\n",
       "      <td>-0.776428</td>\n",
       "      <td>-1.665857</td>\n",
       "      <td>-1.057108</td>\n",
       "      <td>-0.917375</td>\n",
       "      <td>0.889429</td>\n",
       "      <td>-0.139733</td>\n",
       "    </tr>\n",
       "    <tr>\n",
       "      <th>4</th>\n",
       "      <td>0.154859</td>\n",
       "      <td>0.073679</td>\n",
       "      <td>2.101823</td>\n",
       "      <td>0.952381</td>\n",
       "      <td>0.145946</td>\n",
       "      <td>0.282091</td>\n",
       "      <td>0.155414</td>\n",
       "      <td>0.303519</td>\n",
       "      <td>0.060374</td>\n",
       "      <td>0.155414</td>\n",
       "      <td>...</td>\n",
       "      <td>-0.862411</td>\n",
       "      <td>-0.744354</td>\n",
       "      <td>-0.954021</td>\n",
       "      <td>-1.689448</td>\n",
       "      <td>-0.730140</td>\n",
       "      <td>-2.100467</td>\n",
       "      <td>-1.007009</td>\n",
       "      <td>-0.869159</td>\n",
       "      <td>1.370327</td>\n",
       "      <td>-0.137850</td>\n",
       "    </tr>\n",
       "  </tbody>\n",
       "</table>\n",
       "<p>5 rows × 50 columns</p>\n",
       "</div>"
      ],
      "text/plain": [
       "       A0_2      A2_5   Ratio_A      fmax  mag_fmax      mean    median  \\\n",
       "0  0.138671  0.074447  1.862697  1.428571  0.112305  0.308536  0.249553   \n",
       "1  0.144504  0.089532  1.613985  0.952381  0.138408  0.366501  0.280489   \n",
       "2  0.156517  0.071385  2.192568  0.952381  0.154516  0.280349  0.187138   \n",
       "3  0.155914  0.069459  2.244676  0.952381  0.133627  0.301067  0.231981   \n",
       "4  0.154859  0.073679  2.101823  0.952381  0.145946  0.282091  0.155414   \n",
       "\n",
       "     st_dev   perc_25   perc_50  ...  DyValleyTime  DDyValleyTime     b1_a1  \\\n",
       "0  0.262066  0.103032  0.249553  ...     -0.694331      -0.595283 -1.061773   \n",
       "1  0.303549  0.102355  0.280489  ...     -1.382658      -0.999476 -0.291317   \n",
       "2  0.297964  0.042245  0.187138  ...     -0.775369      -0.666317 -0.814766   \n",
       "3  0.286554  0.059443  0.231981  ...     -0.870414      -0.755360 -0.823501   \n",
       "4  0.303519  0.060374  0.155414  ...     -0.862411      -0.744354 -0.954021   \n",
       "\n",
       "      b2_a2   ta1_tpp   ta2_tpp   tb1_tpp   tb2_tpp  ta12_tpp  tb12_tpp  \n",
       "0 -2.237499 -0.458834 -1.753006 -0.641998 -0.550416  1.294172 -0.091582  \n",
       "1 -1.446561 -0.897358 -1.786585 -1.404472 -1.015244  0.889228 -0.389228  \n",
       "2 -1.820737 -0.638857 -1.530286 -0.885714 -0.761143  0.891429 -0.124571  \n",
       "3 -1.884623 -0.776428 -1.665857 -1.057108 -0.917375  0.889429 -0.139733  \n",
       "4 -1.689448 -0.730140 -2.100467 -1.007009 -0.869159  1.370327 -0.137850  \n",
       "\n",
       "[5 rows x 50 columns]"
      ]
     },
     "execution_count": 3,
     "metadata": {},
     "output_type": "execute_result"
    }
   ],
   "source": [
    "data2.head()"
   ]
  },
  {
   "cell_type": "markdown",
   "id": "9cc9250b",
   "metadata": {},
   "source": [
    "## RELIEFF model for Feature Selection\n",
    "\n",
    "**Relieff** is an algorithm that takes a filter-method approach to feature selection that is notably sensitive to feature interactions.\n",
    "\n",
    "Creating an empty DataFrame to store the selected variables for Systolic Blood Pressure."
   ]
  },
  {
   "cell_type": "code",
   "execution_count": 4,
   "id": "07aafd2e",
   "metadata": {},
   "outputs": [],
   "source": [
    "data = pd.DataFrame() "
   ]
  },
  {
   "cell_type": "markdown",
   "id": "e818acf4",
   "metadata": {},
   "source": [
    "#### Adding Patient details as part of Relief"
   ]
  },
  {
   "cell_type": "code",
   "execution_count": 5,
   "id": "56c42d3a",
   "metadata": {},
   "outputs": [],
   "source": [
    "data[\"Age\"] = data1[\"Age(year)\"]\n",
    "data[\"Heart rate\"] = data1[\"Heart Rate(b/m)\"]\n",
    "data[\"Weight\"] = data1[\"Weight(kg)\"]\n",
    "data[\"Height\"] = data1[\"Height(cm)\"]\n",
    "data[\"BMI\"] = data1[\"BMI(kg/m^2)\"]"
   ]
  },
  {
   "cell_type": "markdown",
   "id": "b16fd8c7",
   "metadata": {},
   "source": [
    "#### Adding extracted signal features to the dataframe"
   ]
  },
  {
   "cell_type": "code",
   "execution_count": 6,
   "id": "bac347a0",
   "metadata": {},
   "outputs": [
    {
     "data": {
      "text/html": [
       "<div>\n",
       "<style scoped>\n",
       "    .dataframe tbody tr th:only-of-type {\n",
       "        vertical-align: middle;\n",
       "    }\n",
       "\n",
       "    .dataframe tbody tr th {\n",
       "        vertical-align: top;\n",
       "    }\n",
       "\n",
       "    .dataframe thead th {\n",
       "        text-align: right;\n",
       "    }\n",
       "</style>\n",
       "<table border=\"1\" class=\"dataframe\">\n",
       "  <thead>\n",
       "    <tr style=\"text-align: right;\">\n",
       "      <th></th>\n",
       "      <th>Age</th>\n",
       "      <th>Heart rate</th>\n",
       "      <th>Weight</th>\n",
       "      <th>Height</th>\n",
       "      <th>BMI</th>\n",
       "      <th>A2_5</th>\n",
       "      <th>weight_tpp</th>\n",
       "      <th>BMI_tpp</th>\n",
       "      <th>weight_dytime</th>\n",
       "      <th>weight_ValleyTime</th>\n",
       "      <th>...</th>\n",
       "      <th>perc_50</th>\n",
       "      <th>perc_75</th>\n",
       "      <th>b1_a1</th>\n",
       "      <th>b2_a2</th>\n",
       "      <th>ta1_tpp</th>\n",
       "      <th>ta2_tpp</th>\n",
       "      <th>tb1_tpp</th>\n",
       "      <th>tb2_tpp</th>\n",
       "      <th>ta12_tpp</th>\n",
       "      <th>tb12_tpp</th>\n",
       "    </tr>\n",
       "  </thead>\n",
       "  <tbody>\n",
       "    <tr>\n",
       "      <th>0</th>\n",
       "      <td>45</td>\n",
       "      <td>97</td>\n",
       "      <td>63</td>\n",
       "      <td>152</td>\n",
       "      <td>27.268006</td>\n",
       "      <td>0.074447</td>\n",
       "      <td>58.251619</td>\n",
       "      <td>25.212785</td>\n",
       "      <td>-126.955645</td>\n",
       "      <td>-90.734870</td>\n",
       "      <td>...</td>\n",
       "      <td>0.249553</td>\n",
       "      <td>0.446337</td>\n",
       "      <td>-1.061773</td>\n",
       "      <td>-2.237499</td>\n",
       "      <td>-0.458834</td>\n",
       "      <td>-1.753006</td>\n",
       "      <td>-0.641998</td>\n",
       "      <td>-0.550416</td>\n",
       "      <td>1.294172</td>\n",
       "      <td>-0.091582</td>\n",
       "    </tr>\n",
       "    <tr>\n",
       "      <th>1</th>\n",
       "      <td>50</td>\n",
       "      <td>76</td>\n",
       "      <td>50</td>\n",
       "      <td>157</td>\n",
       "      <td>20.284799</td>\n",
       "      <td>0.089532</td>\n",
       "      <td>50.788811</td>\n",
       "      <td>20.604816</td>\n",
       "      <td>-56.598177</td>\n",
       "      <td>-36.162222</td>\n",
       "      <td>...</td>\n",
       "      <td>0.280489</td>\n",
       "      <td>0.618680</td>\n",
       "      <td>-0.291317</td>\n",
       "      <td>-1.446561</td>\n",
       "      <td>-0.897358</td>\n",
       "      <td>-1.786585</td>\n",
       "      <td>-1.404472</td>\n",
       "      <td>-1.015244</td>\n",
       "      <td>0.889228</td>\n",
       "      <td>-0.389228</td>\n",
       "    </tr>\n",
       "    <tr>\n",
       "      <th>2</th>\n",
       "      <td>47</td>\n",
       "      <td>79</td>\n",
       "      <td>47</td>\n",
       "      <td>150</td>\n",
       "      <td>20.888889</td>\n",
       "      <td>0.071385</td>\n",
       "      <td>53.688707</td>\n",
       "      <td>23.861648</td>\n",
       "      <td>-84.038675</td>\n",
       "      <td>-60.616283</td>\n",
       "      <td>...</td>\n",
       "      <td>0.187138</td>\n",
       "      <td>0.411946</td>\n",
       "      <td>-0.814766</td>\n",
       "      <td>-1.820737</td>\n",
       "      <td>-0.638857</td>\n",
       "      <td>-1.530286</td>\n",
       "      <td>-0.885714</td>\n",
       "      <td>-0.761143</td>\n",
       "      <td>0.891429</td>\n",
       "      <td>-0.124571</td>\n",
       "    </tr>\n",
       "    <tr>\n",
       "      <th>3</th>\n",
       "      <td>45</td>\n",
       "      <td>87</td>\n",
       "      <td>65</td>\n",
       "      <td>172</td>\n",
       "      <td>21.971336</td>\n",
       "      <td>0.069459</td>\n",
       "      <td>78.941735</td>\n",
       "      <td>26.683929</td>\n",
       "      <td>-101.673001</td>\n",
       "      <td>-74.677066</td>\n",
       "      <td>...</td>\n",
       "      <td>0.231981</td>\n",
       "      <td>0.429615</td>\n",
       "      <td>-0.823501</td>\n",
       "      <td>-1.884623</td>\n",
       "      <td>-0.776428</td>\n",
       "      <td>-1.665857</td>\n",
       "      <td>-1.057108</td>\n",
       "      <td>-0.917375</td>\n",
       "      <td>0.889429</td>\n",
       "      <td>-0.139733</td>\n",
       "    </tr>\n",
       "    <tr>\n",
       "      <th>4</th>\n",
       "      <td>46</td>\n",
       "      <td>73</td>\n",
       "      <td>65</td>\n",
       "      <td>155</td>\n",
       "      <td>27.055151</td>\n",
       "      <td>0.073679</td>\n",
       "      <td>75.898420</td>\n",
       "      <td>31.591434</td>\n",
       "      <td>-103.950476</td>\n",
       "      <td>-75.370125</td>\n",
       "      <td>...</td>\n",
       "      <td>0.155414</td>\n",
       "      <td>0.425520</td>\n",
       "      <td>-0.954021</td>\n",
       "      <td>-1.689448</td>\n",
       "      <td>-0.730140</td>\n",
       "      <td>-2.100467</td>\n",
       "      <td>-1.007009</td>\n",
       "      <td>-0.869159</td>\n",
       "      <td>1.370327</td>\n",
       "      <td>-0.137850</td>\n",
       "    </tr>\n",
       "  </tbody>\n",
       "</table>\n",
       "<p>5 rows × 26 columns</p>\n",
       "</div>"
      ],
      "text/plain": [
       "   Age  Heart rate  Weight  Height        BMI      A2_5  weight_tpp  \\\n",
       "0   45          97      63     152  27.268006  0.074447   58.251619   \n",
       "1   50          76      50     157  20.284799  0.089532   50.788811   \n",
       "2   47          79      47     150  20.888889  0.071385   53.688707   \n",
       "3   45          87      65     172  21.971336  0.069459   78.941735   \n",
       "4   46          73      65     155  27.055151  0.073679   75.898420   \n",
       "\n",
       "     BMI_tpp  weight_dytime  weight_ValleyTime  ...   perc_50   perc_75  \\\n",
       "0  25.212785    -126.955645         -90.734870  ...  0.249553  0.446337   \n",
       "1  20.604816     -56.598177         -36.162222  ...  0.280489  0.618680   \n",
       "2  23.861648     -84.038675         -60.616283  ...  0.187138  0.411946   \n",
       "3  26.683929    -101.673001         -74.677066  ...  0.231981  0.429615   \n",
       "4  31.591434    -103.950476         -75.370125  ...  0.155414  0.425520   \n",
       "\n",
       "      b1_a1     b2_a2   ta1_tpp   ta2_tpp   tb1_tpp   tb2_tpp  ta12_tpp  \\\n",
       "0 -1.061773 -2.237499 -0.458834 -1.753006 -0.641998 -0.550416  1.294172   \n",
       "1 -0.291317 -1.446561 -0.897358 -1.786585 -1.404472 -1.015244  0.889228   \n",
       "2 -0.814766 -1.820737 -0.638857 -1.530286 -0.885714 -0.761143  0.891429   \n",
       "3 -0.823501 -1.884623 -0.776428 -1.665857 -1.057108 -0.917375  0.889429   \n",
       "4 -0.954021 -1.689448 -0.730140 -2.100467 -1.007009 -0.869159  1.370327   \n",
       "\n",
       "   tb12_tpp  \n",
       "0 -0.091582  \n",
       "1 -0.389228  \n",
       "2 -0.124571  \n",
       "3 -0.139733  \n",
       "4 -0.137850  \n",
       "\n",
       "[5 rows x 26 columns]"
      ]
     },
     "execution_count": 6,
     "metadata": {},
     "output_type": "execute_result"
    }
   ],
   "source": [
    "temp = ['mean',\n",
    "       'median', 'st_dev', 'perc_25', 'perc_50', 'perc_75','b1_a1', 'b2_a2', 'ta1_tpp', 'ta2_tpp', 'tb1_tpp', 'tb2_tpp',\n",
    "        'ta12_tpp', 'tb12_tpp']\n",
    "\n",
    "data[\"A2_5\"] = data2[\"A2_5\"]\n",
    "data[\"weight_tpp\"] = data[\"Weight\"]/data2[\"P2PTime\"]\n",
    "data[\"BMI_tpp\"] = data[\"BMI\"]/data2[\"P2PTime\"]\n",
    "data[\"weight_dytime\"] = data[\"Weight\"]/data2[\"DyPeakTime\"]\n",
    "data[\"weight_ValleyTime\"] = data[\"Weight\"]/data2[\"DyValleyTime\"]\n",
    "\n",
    "data[\"RMS\"] = data2.RMS\n",
    "data[\"shape_factor\"] = data2.shape_factor\n",
    "\n",
    "for i in temp:\n",
    "    data[i] = data2[i]\n",
    "    \n",
    "data.head()"
   ]
  },
  {
   "cell_type": "markdown",
   "id": "2fb2f80e",
   "metadata": {},
   "source": [
    "#### Creating a Dataset for Diastolic blood pressure estimation"
   ]
  },
  {
   "cell_type": "code",
   "execution_count": 7,
   "id": "c574ee64",
   "metadata": {},
   "outputs": [
    {
     "data": {
      "text/html": [
       "<div>\n",
       "<style scoped>\n",
       "    .dataframe tbody tr th:only-of-type {\n",
       "        vertical-align: middle;\n",
       "    }\n",
       "\n",
       "    .dataframe tbody tr th {\n",
       "        vertical-align: top;\n",
       "    }\n",
       "\n",
       "    .dataframe thead th {\n",
       "        text-align: right;\n",
       "    }\n",
       "</style>\n",
       "<table border=\"1\" class=\"dataframe\">\n",
       "  <thead>\n",
       "    <tr style=\"text-align: right;\">\n",
       "      <th></th>\n",
       "      <th>Age</th>\n",
       "      <th>Heart rate</th>\n",
       "      <th>Weight</th>\n",
       "      <th>Height</th>\n",
       "      <th>BMI</th>\n",
       "      <th>weight_tpp</th>\n",
       "      <th>BMI_tpp</th>\n",
       "      <th>RMS</th>\n",
       "      <th>shape_factor</th>\n",
       "      <th>mean</th>\n",
       "      <th>...</th>\n",
       "      <th>perc_75</th>\n",
       "      <th>b1_a1</th>\n",
       "      <th>b2_a2</th>\n",
       "      <th>ta1_tpp</th>\n",
       "      <th>ta2_tpp</th>\n",
       "      <th>tb1_tpp</th>\n",
       "      <th>tb2_tpp</th>\n",
       "      <th>ta12_tpp</th>\n",
       "      <th>tb12_tpp</th>\n",
       "      <th>A0_2</th>\n",
       "    </tr>\n",
       "  </thead>\n",
       "  <tbody>\n",
       "    <tr>\n",
       "      <th>0</th>\n",
       "      <td>45</td>\n",
       "      <td>97</td>\n",
       "      <td>63</td>\n",
       "      <td>152</td>\n",
       "      <td>27.268006</td>\n",
       "      <td>58.251619</td>\n",
       "      <td>25.212785</td>\n",
       "      <td>0.404812</td>\n",
       "      <td>1.312041</td>\n",
       "      <td>0.308536</td>\n",
       "      <td>...</td>\n",
       "      <td>0.446337</td>\n",
       "      <td>-1.061773</td>\n",
       "      <td>-2.237499</td>\n",
       "      <td>-0.458834</td>\n",
       "      <td>-1.753006</td>\n",
       "      <td>-0.641998</td>\n",
       "      <td>-0.550416</td>\n",
       "      <td>1.294172</td>\n",
       "      <td>-0.091582</td>\n",
       "      <td>0.138671</td>\n",
       "    </tr>\n",
       "    <tr>\n",
       "      <th>1</th>\n",
       "      <td>50</td>\n",
       "      <td>76</td>\n",
       "      <td>50</td>\n",
       "      <td>157</td>\n",
       "      <td>20.284799</td>\n",
       "      <td>50.788811</td>\n",
       "      <td>20.604816</td>\n",
       "      <td>0.475884</td>\n",
       "      <td>1.298451</td>\n",
       "      <td>0.366501</td>\n",
       "      <td>...</td>\n",
       "      <td>0.618680</td>\n",
       "      <td>-0.291317</td>\n",
       "      <td>-1.446561</td>\n",
       "      <td>-0.897358</td>\n",
       "      <td>-1.786585</td>\n",
       "      <td>-1.404472</td>\n",
       "      <td>-1.015244</td>\n",
       "      <td>0.889228</td>\n",
       "      <td>-0.389228</td>\n",
       "      <td>0.144504</td>\n",
       "    </tr>\n",
       "    <tr>\n",
       "      <th>2</th>\n",
       "      <td>47</td>\n",
       "      <td>79</td>\n",
       "      <td>47</td>\n",
       "      <td>150</td>\n",
       "      <td>20.888889</td>\n",
       "      <td>53.688707</td>\n",
       "      <td>23.861648</td>\n",
       "      <td>0.409118</td>\n",
       "      <td>1.459320</td>\n",
       "      <td>0.280349</td>\n",
       "      <td>...</td>\n",
       "      <td>0.411946</td>\n",
       "      <td>-0.814766</td>\n",
       "      <td>-1.820737</td>\n",
       "      <td>-0.638857</td>\n",
       "      <td>-1.530286</td>\n",
       "      <td>-0.885714</td>\n",
       "      <td>-0.761143</td>\n",
       "      <td>0.891429</td>\n",
       "      <td>-0.124571</td>\n",
       "      <td>0.156517</td>\n",
       "    </tr>\n",
       "    <tr>\n",
       "      <th>3</th>\n",
       "      <td>45</td>\n",
       "      <td>87</td>\n",
       "      <td>65</td>\n",
       "      <td>172</td>\n",
       "      <td>21.971336</td>\n",
       "      <td>78.941735</td>\n",
       "      <td>26.683929</td>\n",
       "      <td>0.415638</td>\n",
       "      <td>1.380549</td>\n",
       "      <td>0.301067</td>\n",
       "      <td>...</td>\n",
       "      <td>0.429615</td>\n",
       "      <td>-0.823501</td>\n",
       "      <td>-1.884623</td>\n",
       "      <td>-0.776428</td>\n",
       "      <td>-1.665857</td>\n",
       "      <td>-1.057108</td>\n",
       "      <td>-0.917375</td>\n",
       "      <td>0.889429</td>\n",
       "      <td>-0.139733</td>\n",
       "      <td>0.155914</td>\n",
       "    </tr>\n",
       "    <tr>\n",
       "      <th>4</th>\n",
       "      <td>46</td>\n",
       "      <td>73</td>\n",
       "      <td>65</td>\n",
       "      <td>155</td>\n",
       "      <td>27.055151</td>\n",
       "      <td>75.898420</td>\n",
       "      <td>31.591434</td>\n",
       "      <td>0.414366</td>\n",
       "      <td>1.468907</td>\n",
       "      <td>0.282091</td>\n",
       "      <td>...</td>\n",
       "      <td>0.425520</td>\n",
       "      <td>-0.954021</td>\n",
       "      <td>-1.689448</td>\n",
       "      <td>-0.730140</td>\n",
       "      <td>-2.100467</td>\n",
       "      <td>-1.007009</td>\n",
       "      <td>-0.869159</td>\n",
       "      <td>1.370327</td>\n",
       "      <td>-0.137850</td>\n",
       "      <td>0.154859</td>\n",
       "    </tr>\n",
       "  </tbody>\n",
       "</table>\n",
       "<p>5 rows × 24 columns</p>\n",
       "</div>"
      ],
      "text/plain": [
       "   Age  Heart rate  Weight  Height        BMI  weight_tpp    BMI_tpp  \\\n",
       "0   45          97      63     152  27.268006   58.251619  25.212785   \n",
       "1   50          76      50     157  20.284799   50.788811  20.604816   \n",
       "2   47          79      47     150  20.888889   53.688707  23.861648   \n",
       "3   45          87      65     172  21.971336   78.941735  26.683929   \n",
       "4   46          73      65     155  27.055151   75.898420  31.591434   \n",
       "\n",
       "        RMS  shape_factor      mean  ...   perc_75     b1_a1     b2_a2  \\\n",
       "0  0.404812      1.312041  0.308536  ...  0.446337 -1.061773 -2.237499   \n",
       "1  0.475884      1.298451  0.366501  ...  0.618680 -0.291317 -1.446561   \n",
       "2  0.409118      1.459320  0.280349  ...  0.411946 -0.814766 -1.820737   \n",
       "3  0.415638      1.380549  0.301067  ...  0.429615 -0.823501 -1.884623   \n",
       "4  0.414366      1.468907  0.282091  ...  0.425520 -0.954021 -1.689448   \n",
       "\n",
       "    ta1_tpp   ta2_tpp   tb1_tpp   tb2_tpp  ta12_tpp  tb12_tpp      A0_2  \n",
       "0 -0.458834 -1.753006 -0.641998 -0.550416  1.294172 -0.091582  0.138671  \n",
       "1 -0.897358 -1.786585 -1.404472 -1.015244  0.889228 -0.389228  0.144504  \n",
       "2 -0.638857 -1.530286 -0.885714 -0.761143  0.891429 -0.124571  0.156517  \n",
       "3 -0.776428 -1.665857 -1.057108 -0.917375  0.889429 -0.139733  0.155914  \n",
       "4 -0.730140 -2.100467 -1.007009 -0.869159  1.370327 -0.137850  0.154859  \n",
       "\n",
       "[5 rows x 24 columns]"
      ]
     },
     "execution_count": 7,
     "metadata": {},
     "output_type": "execute_result"
    }
   ],
   "source": [
    "data_dia = data.drop(labels=[\"weight_dytime\", \"weight_ValleyTime\", \"A2_5\"], axis=1)\n",
    "data_dia[\"A0_2\"] = data2.A0_2\n",
    "data_dia.head()"
   ]
  },
  {
   "cell_type": "markdown",
   "id": "5dad84cd",
   "metadata": {},
   "source": [
    "Obtaining the target variables"
   ]
  },
  {
   "cell_type": "code",
   "execution_count": 8,
   "id": "38b57a46",
   "metadata": {},
   "outputs": [],
   "source": [
    "Systolic = data1[\"Systolic Blood Pressure(mmHg)\"]\n",
    "Diastolic = data1[\"Diastolic Blood Pressure(mmHg)\"]"
   ]
  },
  {
   "cell_type": "markdown",
   "id": "ec354c2b",
   "metadata": {},
   "source": [
    "## Machine Learning Models\n",
    "\n",
    "Models used for:\n",
    "> Systolic: RandomForestRegressor from Ensemble Trees\n",
    "\n",
    "> Diastolic: Multi-Layer Perceptron from Neural Networks"
   ]
  },
  {
   "cell_type": "markdown",
   "id": "22d67227",
   "metadata": {},
   "source": [
    "### Training Model for Systolic Pressure"
   ]
  },
  {
   "cell_type": "code",
   "execution_count": 9,
   "id": "f88f4fff",
   "metadata": {},
   "outputs": [],
   "source": [
    "from sklearn.ensemble import RandomForestRegressor\n",
    "from sklearn.model_selection import cross_val_score\n",
    "from sklearn.metrics import mean_squared_error\n",
    "\n",
    "rgs = RandomForestRegressor(n_estimators=100)\n",
    "rgs = rgs.fit(data, Systolic)\n",
    "scores = np.sqrt(mean_squared_error(rgs.predict(data), Systolic))"
   ]
  },
  {
   "cell_type": "markdown",
   "id": "d21690e1",
   "metadata": {},
   "source": [
    "### Training model for Diastolic Pressure"
   ]
  },
  {
   "cell_type": "code",
   "execution_count": 10,
   "id": "3ca759ad",
   "metadata": {},
   "outputs": [],
   "source": [
    "from sklearn.neural_network import MLPRegressor\n",
    "from sklearn.pipeline import make_pipeline\n",
    "from sklearn.preprocessing import StandardScaler\n",
    "\n",
    "regs2 = MLPRegressor(random_state=1, max_iter=500).fit(data_dia, Diastolic)\n",
    "scores2 = np.sqrt(mean_squared_error(regs2.predict(data_dia), Diastolic))"
   ]
  },
  {
   "cell_type": "markdown",
   "id": "b400324f",
   "metadata": {},
   "source": [
    "## Testing the models\n",
    "\n",
    "Testing metric is chosen to be **Root Mean Squared Error**"
   ]
  },
  {
   "cell_type": "code",
   "execution_count": 11,
   "id": "cfca4878",
   "metadata": {},
   "outputs": [
    {
     "name": "stdout",
     "output_type": "stream",
     "text": [
      "RMSE for Systolic and Diastolic respectively is:  6.676477914248615 ,  11.042260625954153\n"
     ]
    }
   ],
   "source": [
    "print('RMSE for Systolic and Diastolic respectively is: ', scores, \", \", scores2)"
   ]
  },
  {
   "cell_type": "markdown",
   "id": "4e9e24a0",
   "metadata": {},
   "source": [
    "### Testing the Systolic Prediction"
   ]
  },
  {
   "cell_type": "code",
   "execution_count": 12,
   "id": "e4e4580a",
   "metadata": {},
   "outputs": [
    {
     "data": {
      "image/png": "[encoded data removed]",
      "text/plain": [
       "<Figure size 432x288 with 1 Axes>"
      ]
     },
     "metadata": {
      "needs_background": "light"
     },
     "output_type": "display_data"
    }
   ],
   "source": [
    "plt.plot(rgs.predict(data), label=\"Predicted Data\");\n",
    "plt.plot(Systolic, label=\"True Data\");\n",
    "plt.legend();"
   ]
  },
  {
   "cell_type": "code",
   "execution_count": 13,
   "id": "59cf95f9",
   "metadata": {},
   "outputs": [
    {
     "name": "stdout",
     "output_type": "stream",
     "text": [
      "Prediction:  106.87 mmHg\n",
      " Truth:  106 mmHg\n"
     ]
    }
   ],
   "source": [
    "print(\"Prediction: \", rgs.predict(pd.DataFrame(data.iloc[217]).T)[0],\n",
    "      \"mmHg\\n\", \"Truth: \", Systolic[217], \"mmHg\")"
   ]
  },
  {
   "cell_type": "markdown",
   "id": "cae384ab",
   "metadata": {},
   "source": [
    "### Testing Diastolic Predictions"
   ]
  },
  {
   "cell_type": "code",
   "execution_count": 14,
   "id": "3409254b",
   "metadata": {},
   "outputs": [
    {
     "data": {
      "image/png": "[encoded data removed]",
      "text/plain": [
       "<Figure size 432x288 with 1 Axes>"
      ]
     },
     "metadata": {
      "needs_background": "light"
     },
     "output_type": "display_data"
    }
   ],
   "source": [
    "plt.plot(regs2.predict(data_dia), label=\"Predicted Data\");\n",
    "plt.plot(Diastolic, label=\"True Data\");\n",
    "plt.legend();"
   ]
  },
  {
   "cell_type": "code",
   "execution_count": 16,
   "id": "2d256364",
   "metadata": {},
   "outputs": [
    {
     "name": "stdout",
     "output_type": "stream",
     "text": [
      "Prediction:  68.3850549789529 mmHg\n",
      " Truth:  69 mmHg\n"
     ]
    }
   ],
   "source": [
    "print(\"Prediction: \", regs2.predict(pd.DataFrame(data_dia.iloc[217]).T)[0],\n",
    "      \"mmHg\\n\", \"Truth: \", Diastolic[217], \"mmHg\")"
   ]
  },
  {
   "cell_type": "markdown",
   "id": "c3fb073a",
   "metadata": {},
   "source": [
    "### Saving the model\n",
    "\n",
    "Saving the models for systolic and diastolic pressure in `systolic_model.sav` and `diastolic_model.sav` respectively."
   ]
  },
  {
   "cell_type": "code",
   "execution_count": 27,
   "id": "9cda91e9",
   "metadata": {},
   "outputs": [],
   "source": [
    "import pickle\n",
    "\n",
    "systolic_path = os.getcwd() + \"\\\\models\\\\systolic_model.sav\"\n",
    "diastolic_path = os.getcwd() + \"\\\\models\\\\diastolic_model.sav\"\n",
    "\n",
    "pickle.dump(rgs, open(systolic_path, 'wb'))\n",
    "pickle.dump(regs2, open(diastolic_path, 'wb'))"
   ]
  },
  {
   "cell_type": "markdown",
   "id": "12a3d294",
   "metadata": {},
   "source": [
    "### Loading the Model"
   ]
  },
  {
   "cell_type": "code",
   "execution_count": 18,
   "id": "be46ed2d",
   "metadata": {},
   "outputs": [],
   "source": [
    "systolic_model = pickle.load(open(systolic_path, 'rb'))\n",
    "diastolic_model = pickle.load(open(diastolic_path, 'rb'))"
   ]
  },
  {
   "cell_type": "code",
   "execution_count": 23,
   "id": "29fb1812",
   "metadata": {},
   "outputs": [
    {
     "name": "stdout",
     "output_type": "stream",
     "text": [
      "Systolic Prediction:  107 mmHg\t Systolic Truth:  106 mmHg\n",
      "Diastolic Prediction:  68 mmHg\t Diastolic Truth:  69 mmHg\n"
     ]
    }
   ],
   "source": [
    "print(\"Systolic Prediction: \", round(systolic_model.predict(pd.DataFrame(data.iloc[217]).T)[0]),\n",
    "      \"mmHg\\t\", \"Systolic Truth: \", Systolic[217], \"mmHg\")\n",
    "\n",
    "print(\"Diastolic Prediction: \", round(diastolic_model.predict(pd.DataFrame(data_dia.iloc[217]).T)[0]),\n",
    "      \"mmHg\\t\", \"Diastolic Truth: \", Diastolic[217], \"mmHg\")"
   ]
  }
 ],
 "metadata": {
  "kernelspec": {
   "display_name": "Python 3",
   "language": "python",
   "name": "python3"
  },
  "language_info": {
   "codemirror_mode": {
    "name": "ipython",
    "version": 3
   },
   "file_extension": ".py",
   "mimetype": "text/x-python",
   "name": "python",
   "nbconvert_exporter": "python",
   "pygments_lexer": "ipython3",
   "version": "3.8.8"
  }
 },
 "nbformat": 4,
 "nbformat_minor": 5
}
